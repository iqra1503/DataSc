{
 "cells": [
  {
   "cell_type": "markdown",
   "id": "bac45ba9-a371-428b-8d6e-f6fbc21257e1",
   "metadata": {},
   "source": [
    "1. Grouping and Aggregation (20 Marks)"
   ]
  },
  {
   "cell_type": "code",
   "execution_count": 2,
   "id": "eefcf07b-82ba-4018-b654-95f21a36bdf6",
   "metadata": {},
   "outputs": [],
   "source": [
    "import pandas as pd"
   ]
  },
  {
   "cell_type": "code",
   "execution_count": 9,
   "id": "51c7b427-0976-4c4f-9210-9333499d96ce",
   "metadata": {},
   "outputs": [],
   "source": [
    "data = {\n",
    "    'Employee': ['Alice', 'Bob', 'Alice', 'Bob', 'Charlie', 'Alice', 'Charlie', 'Bob'],\n",
    "    'Region': ['North', 'South', 'North', 'South', 'North', 'South', 'North', 'North'],\n",
    "    'Sales': [200, 150, 300, 400, 100, 250, 300, 350],\n",
    "    'Year': [2023, 2023, 2024, 2024, 2023, 2024, 2024, 2023]\n",
    "}\n",
    "\n",
    "df = pd.DataFrame(data) \n",
    "\n"
   ]
  },
  {
   "cell_type": "markdown",
   "id": "df52a0ea-0393-44e7-a583-29a3b93a82c1",
   "metadata": {},
   "source": [
    "Group the data by Employee and calculate the total sales for each employee. (5 Marks)\n"
   ]
  },
  {
   "cell_type": "code",
   "execution_count": 60,
   "id": "58675a55-95dc-4195-9b25-6d9bfc7e6bd4",
   "metadata": {},
   "outputs": [
    {
     "data": {
      "text/plain": [
       "Employee\n",
       "Alice      750\n",
       "Bob        900\n",
       "Charlie    400\n",
       "Name: Sales, dtype: int64"
      ]
     },
     "execution_count": 60,
     "metadata": {},
     "output_type": "execute_result"
    }
   ],
   "source": [
    "total_sales=df.groupby('Employee')['Sales'].sum()\n",
    "total_sales"
   ]
  },
  {
   "cell_type": "markdown",
   "id": "80b0d6b7-511b-4242-b5b2-371e4a016892",
   "metadata": {},
   "source": [
    "Group the data by Region and find the average sales per region. (5 Marks)"
   ]
  },
  {
   "cell_type": "code",
   "execution_count": 22,
   "id": "de391e64-da74-46c3-ac88-9e7250f644f3",
   "metadata": {},
   "outputs": [
    {
     "data": {
      "text/plain": [
       "Region\n",
       "North    250.000000\n",
       "South    266.666667\n",
       "Name: Sales, dtype: float64"
      ]
     },
     "execution_count": 22,
     "metadata": {},
     "output_type": "execute_result"
    }
   ],
   "source": [
    "df.groupby('Region')['Sales'].mean()"
   ]
  },
  {
   "cell_type": "markdown",
   "id": "65f91130-3ddf-4dc2-8fd9-e6bbcbe5a8da",
   "metadata": {},
   "source": [
    "Group the data by both Employee and Year to calculate the total sales for each combination. (10 Marks)\n"
   ]
  },
  {
   "cell_type": "code",
   "execution_count": 29,
   "id": "e7a8f215-1d82-4c5d-bc89-2080264df161",
   "metadata": {},
   "outputs": [
    {
     "data": {
      "text/plain": [
       "Employee  Year\n",
       "Alice     2023    200\n",
       "          2024    550\n",
       "Bob       2023    500\n",
       "          2024    400\n",
       "Charlie   2023    100\n",
       "          2024    300\n",
       "Name: Sales, dtype: int64"
      ]
     },
     "execution_count": 29,
     "metadata": {},
     "output_type": "execute_result"
    }
   ],
   "source": [
    "df.groupby(['Employee','Year'])['Sales'].sum()\n",
    "#df.groupby('Year')['Sales'].sum()"
   ]
  },
  {
   "cell_type": "markdown",
   "id": "05069d13-1e16-4142-8bdd-80283390cb2d",
   "metadata": {},
   "source": [
    "2. Merging and Concatenation (20 Marks)\n"
   ]
  },
  {
   "cell_type": "code",
   "execution_count": 35,
   "id": "3662e759-f69e-4c7e-bb90-48a5a65abf63",
   "metadata": {},
   "outputs": [],
   "source": [
    "employee_details = pd.DataFrame({\n",
    "    'Employee': ['Alice', 'Bob', 'Charlie', 'David'],\n",
    "    'Age': [25, 30, 35, 40],\n",
    "    'Department': ['Sales', 'Sales', 'Marketing', 'HR']\n",
    "})\n",
    "\n",
    "sales_targets = pd.DataFrame({\n",
    "    'Employee': ['Alice', 'Bob', 'Charlie', 'David'],\n",
    "    'Sales_Target': [1000, 1200, 800, 500]\n",
    "})"
   ]
  },
  {
   "cell_type": "markdown",
   "id": "81b96841-f6fb-4a06-90d6-8959e746bad6",
   "metadata": {},
   "source": [
    "Merge the two datasets on the Employee column to combine all details."
   ]
  },
  {
   "cell_type": "code",
   "execution_count": 56,
   "id": "3e2c9a51-c030-43ac-bf58-69f555b5a852",
   "metadata": {},
   "outputs": [
    {
     "data": {
      "text/html": [
       "<div>\n",
       "<style scoped>\n",
       "    .dataframe tbody tr th:only-of-type {\n",
       "        vertical-align: middle;\n",
       "    }\n",
       "\n",
       "    .dataframe tbody tr th {\n",
       "        vertical-align: top;\n",
       "    }\n",
       "\n",
       "    .dataframe thead th {\n",
       "        text-align: right;\n",
       "    }\n",
       "</style>\n",
       "<table border=\"1\" class=\"dataframe\">\n",
       "  <thead>\n",
       "    <tr style=\"text-align: right;\">\n",
       "      <th></th>\n",
       "      <th>Employee</th>\n",
       "      <th>Age</th>\n",
       "      <th>Department</th>\n",
       "      <th>Sales_Target</th>\n",
       "    </tr>\n",
       "  </thead>\n",
       "  <tbody>\n",
       "    <tr>\n",
       "      <th>0</th>\n",
       "      <td>Alice</td>\n",
       "      <td>25</td>\n",
       "      <td>Sales</td>\n",
       "      <td>1000</td>\n",
       "    </tr>\n",
       "    <tr>\n",
       "      <th>1</th>\n",
       "      <td>Bob</td>\n",
       "      <td>30</td>\n",
       "      <td>Sales</td>\n",
       "      <td>1200</td>\n",
       "    </tr>\n",
       "    <tr>\n",
       "      <th>2</th>\n",
       "      <td>Charlie</td>\n",
       "      <td>35</td>\n",
       "      <td>Marketing</td>\n",
       "      <td>800</td>\n",
       "    </tr>\n",
       "    <tr>\n",
       "      <th>3</th>\n",
       "      <td>David</td>\n",
       "      <td>40</td>\n",
       "      <td>HR</td>\n",
       "      <td>500</td>\n",
       "    </tr>\n",
       "  </tbody>\n",
       "</table>\n",
       "</div>"
      ],
      "text/plain": [
       "  Employee  Age Department  Sales_Target\n",
       "0    Alice   25      Sales          1000\n",
       "1      Bob   30      Sales          1200\n",
       "2  Charlie   35  Marketing           800\n",
       "3    David   40         HR           500"
      ]
     },
     "execution_count": 56,
     "metadata": {},
     "output_type": "execute_result"
    }
   ],
   "source": [
    "merged_data=pd.merge(employee_details,sales_targets,on = 'Employee')\n",
    "merged_data"
   ]
  },
  {
   "cell_type": "markdown",
   "id": "052d3b20-359d-4709-b296-9cff3a8b404f",
   "metadata": {},
   "source": [
    "Create a new column showing the difference between Sales_Target and total sales (calculated from Task 1). Hint: Use the merged dataset for calculations. (10 Marks)\n"
   ]
  },
  {
   "cell_type": "code",
   "execution_count": 94,
   "id": "d8f9368c-0627-406a-b164-f69be6a1d781",
   "metadata": {},
   "outputs": [
    {
     "data": {
      "text/html": [
       "<div>\n",
       "<style scoped>\n",
       "    .dataframe tbody tr th:only-of-type {\n",
       "        vertical-align: middle;\n",
       "    }\n",
       "\n",
       "    .dataframe tbody tr th {\n",
       "        vertical-align: top;\n",
       "    }\n",
       "\n",
       "    .dataframe thead th {\n",
       "        text-align: right;\n",
       "    }\n",
       "</style>\n",
       "<table border=\"1\" class=\"dataframe\">\n",
       "  <thead>\n",
       "    <tr style=\"text-align: right;\">\n",
       "      <th></th>\n",
       "      <th>Employee</th>\n",
       "      <th>Sales_Target</th>\n",
       "      <th>Sales</th>\n",
       "      <th>Difference</th>\n",
       "    </tr>\n",
       "  </thead>\n",
       "  <tbody>\n",
       "    <tr>\n",
       "      <th>0</th>\n",
       "      <td>Alice</td>\n",
       "      <td>1000</td>\n",
       "      <td>750</td>\n",
       "      <td>250</td>\n",
       "    </tr>\n",
       "    <tr>\n",
       "      <th>1</th>\n",
       "      <td>Bob</td>\n",
       "      <td>1200</td>\n",
       "      <td>900</td>\n",
       "      <td>300</td>\n",
       "    </tr>\n",
       "    <tr>\n",
       "      <th>2</th>\n",
       "      <td>Charlie</td>\n",
       "      <td>800</td>\n",
       "      <td>400</td>\n",
       "      <td>400</td>\n",
       "    </tr>\n",
       "  </tbody>\n",
       "</table>\n",
       "</div>"
      ],
      "text/plain": [
       "  Employee  Sales_Target  Sales  Difference\n",
       "0    Alice          1000    750         250\n",
       "1      Bob          1200    900         300\n",
       "2  Charlie           800    400         400"
      ]
     },
     "execution_count": 94,
     "metadata": {},
     "output_type": "execute_result"
    }
   ],
   "source": [
    "merged_data=pd.merge(sales_targets,total_sales,on='Employee')\n",
    "merged_data['Difference']=merged_data['Sales_Target']-merged_data['Sales']\n",
    "merged_data"
   ]
  },
  {
   "cell_type": "markdown",
   "id": "8a078a72-104d-45be-b123-ccb00ec35c60",
   "metadata": {},
   "source": [
    "3. Working with Time-Series Data (20 Marks)"
   ]
  },
  {
   "cell_type": "code",
   "execution_count": 85,
   "id": "5cf9072f-acbc-465f-a25d-09e3e7964796",
   "metadata": {},
   "outputs": [
    {
     "data": {
      "text/html": [
       "<div>\n",
       "<style scoped>\n",
       "    .dataframe tbody tr th:only-of-type {\n",
       "        vertical-align: middle;\n",
       "    }\n",
       "\n",
       "    .dataframe tbody tr th {\n",
       "        vertical-align: top;\n",
       "    }\n",
       "\n",
       "    .dataframe thead th {\n",
       "        text-align: right;\n",
       "    }\n",
       "</style>\n",
       "<table border=\"1\" class=\"dataframe\">\n",
       "  <thead>\n",
       "    <tr style=\"text-align: right;\">\n",
       "      <th></th>\n",
       "      <th>Date</th>\n",
       "      <th>Price</th>\n",
       "    </tr>\n",
       "  </thead>\n",
       "  <tbody>\n",
       "    <tr>\n",
       "      <th>0</th>\n",
       "      <td>2024-01-01</td>\n",
       "      <td>100</td>\n",
       "    </tr>\n",
       "    <tr>\n",
       "      <th>1</th>\n",
       "      <td>2024-01-02</td>\n",
       "      <td>102</td>\n",
       "    </tr>\n",
       "    <tr>\n",
       "      <th>2</th>\n",
       "      <td>2024-01-03</td>\n",
       "      <td>105</td>\n",
       "    </tr>\n",
       "    <tr>\n",
       "      <th>3</th>\n",
       "      <td>2024-01-04</td>\n",
       "      <td>107</td>\n",
       "    </tr>\n",
       "    <tr>\n",
       "      <th>4</th>\n",
       "      <td>2024-01-05</td>\n",
       "      <td>110</td>\n",
       "    </tr>\n",
       "  </tbody>\n",
       "</table>\n",
       "</div>"
      ],
      "text/plain": [
       "         Date  Price\n",
       "0  2024-01-01    100\n",
       "1  2024-01-02    102\n",
       "2  2024-01-03    105\n",
       "3  2024-01-04    107\n",
       "4  2024-01-05    110"
      ]
     },
     "execution_count": 85,
     "metadata": {},
     "output_type": "execute_result"
    }
   ],
   "source": [
    "stock_prices = pd.DataFrame({\n",
    "    'Date': ['2024-01-01', '2024-01-02', '2024-01-03', '2024-01-04', '2024-01-05'],\n",
    "    'Price': [100, 102, 105, 107, 110]\n",
    "})\n",
    "stock_prices"
   ]
  },
  {
   "cell_type": "markdown",
   "id": "df9be365-bea1-4bd3-8364-649f57e2ae3f",
   "metadata": {},
   "source": [
    "Convert the Date column to a datetime object. (5 Marks)"
   ]
  },
  {
   "cell_type": "code",
   "execution_count": 100,
   "id": "386d3531-3821-482c-8793-085e7e9d481b",
   "metadata": {},
   "outputs": [
    {
     "data": {
      "text/html": [
       "<div>\n",
       "<style scoped>\n",
       "    .dataframe tbody tr th:only-of-type {\n",
       "        vertical-align: middle;\n",
       "    }\n",
       "\n",
       "    .dataframe tbody tr th {\n",
       "        vertical-align: top;\n",
       "    }\n",
       "\n",
       "    .dataframe thead th {\n",
       "        text-align: right;\n",
       "    }\n",
       "</style>\n",
       "<table border=\"1\" class=\"dataframe\">\n",
       "  <thead>\n",
       "    <tr style=\"text-align: right;\">\n",
       "      <th></th>\n",
       "      <th>Date</th>\n",
       "      <th>Price</th>\n",
       "    </tr>\n",
       "  </thead>\n",
       "  <tbody>\n",
       "    <tr>\n",
       "      <th>0</th>\n",
       "      <td>2024-01-01</td>\n",
       "      <td>100</td>\n",
       "    </tr>\n",
       "    <tr>\n",
       "      <th>1</th>\n",
       "      <td>2024-01-02</td>\n",
       "      <td>102</td>\n",
       "    </tr>\n",
       "    <tr>\n",
       "      <th>2</th>\n",
       "      <td>2024-01-03</td>\n",
       "      <td>105</td>\n",
       "    </tr>\n",
       "    <tr>\n",
       "      <th>3</th>\n",
       "      <td>2024-01-04</td>\n",
       "      <td>107</td>\n",
       "    </tr>\n",
       "    <tr>\n",
       "      <th>4</th>\n",
       "      <td>2024-01-05</td>\n",
       "      <td>110</td>\n",
       "    </tr>\n",
       "  </tbody>\n",
       "</table>\n",
       "</div>"
      ],
      "text/plain": [
       "        Date  Price\n",
       "0 2024-01-01    100\n",
       "1 2024-01-02    102\n",
       "2 2024-01-03    105\n",
       "3 2024-01-04    107\n",
       "4 2024-01-05    110"
      ]
     },
     "execution_count": 100,
     "metadata": {},
     "output_type": "execute_result"
    }
   ],
   "source": [
    "stock_prices['Date']=pd.to_datetime(stock_prices['Date'])\n",
    "stock_prices"
   ]
  },
  {
   "cell_type": "markdown",
   "id": "2fd40c6c-0656-4383-916a-d2eef3abb621",
   "metadata": {},
   "source": [
    "Resample the data to calculate the weekly average price. (10 Marks)"
   ]
  },
  {
   "cell_type": "code",
   "execution_count": null,
   "id": "c18bb228-1ee9-4eaf-b237-984d6c12f7bb",
   "metadata": {},
   "outputs": [],
   "source": []
  },
  {
   "cell_type": "markdown",
   "id": "8a91c405-2ba0-4755-8779-fca1c73b6100",
   "metadata": {},
   "source": [
    "Find the day with the highest stock price. (5 Marks)"
   ]
  },
  {
   "cell_type": "code",
   "execution_count": 120,
   "id": "8e9df23f-2d03-40f8-beb1-2f38a925454f",
   "metadata": {},
   "outputs": [
    {
     "data": {
      "text/plain": [
       "Price    110\n",
       "Name: 2024-01-05 00:00:00, dtype: int64"
      ]
     },
     "execution_count": 120,
     "metadata": {},
     "output_type": "execute_result"
    }
   ],
   "source": [
    " stock_prices.loc[stock_prices['Price'].idxmax()]"
   ]
  },
  {
   "cell_type": "markdown",
   "id": "a9a0c56f-c5e6-45cd-b6e6-6969bb65abbf",
   "metadata": {},
   "source": [
    "4. Pivot Tables and Cross-Tabulations (20 Marks)"
   ]
  },
  {
   "cell_type": "code",
   "execution_count": 123,
   "id": "8f802bb3-ba54-4e1d-b91a-a59f8c4f41ee",
   "metadata": {},
   "outputs": [],
   "source": [
    "import pandas as pd\n",
    "\n",
    "data = {\n",
    "    'Employee': ['Alice', 'Bob', 'Alice', 'Bob', 'Charlie', 'Alice', 'Charlie', 'Bob'],\n",
    "    'Region': ['North', 'South', 'North', 'South', 'North', 'South', 'North', 'North'],\n",
    "    'Sales': [200, 150, 300, 400, 100, 250, 300, 350],\n",
    "    'Year': [2023, 2023, 2024, 2024, 2023, 2024, 2024, 2023]\n",
    "}\n",
    "\n",
    "df = pd.DataFrame(data)\n"
   ]
  },
  {
   "cell_type": "markdown",
   "id": "ee3decca-607a-4153-b002-2a76d1c2efe7",
   "metadata": {},
   "source": [
    "Create a pivot table to find the total sales by Region and Year. (10 Marks)"
   ]
  },
  {
   "cell_type": "code",
   "execution_count": 148,
   "id": "03dcb093-f5d7-477b-b7c0-5773943d9efa",
   "metadata": {},
   "outputs": [
    {
     "data": {
      "text/html": [
       "<div>\n",
       "<style scoped>\n",
       "    .dataframe tbody tr th:only-of-type {\n",
       "        vertical-align: middle;\n",
       "    }\n",
       "\n",
       "    .dataframe tbody tr th {\n",
       "        vertical-align: top;\n",
       "    }\n",
       "\n",
       "    .dataframe thead th {\n",
       "        text-align: right;\n",
       "    }\n",
       "</style>\n",
       "<table border=\"1\" class=\"dataframe\">\n",
       "  <thead>\n",
       "    <tr style=\"text-align: right;\">\n",
       "      <th>Year</th>\n",
       "      <th>2023</th>\n",
       "      <th>2024</th>\n",
       "    </tr>\n",
       "    <tr>\n",
       "      <th>Region</th>\n",
       "      <th></th>\n",
       "      <th></th>\n",
       "    </tr>\n",
       "  </thead>\n",
       "  <tbody>\n",
       "    <tr>\n",
       "      <th>North</th>\n",
       "      <td>650</td>\n",
       "      <td>600</td>\n",
       "    </tr>\n",
       "    <tr>\n",
       "      <th>South</th>\n",
       "      <td>150</td>\n",
       "      <td>650</td>\n",
       "    </tr>\n",
       "  </tbody>\n",
       "</table>\n",
       "</div>"
      ],
      "text/plain": [
       "Year    2023  2024\n",
       "Region            \n",
       "North    650   600\n",
       "South    150   650"
      ]
     },
     "execution_count": 148,
     "metadata": {},
     "output_type": "execute_result"
    }
   ],
   "source": [
    " sales_pivot=pd.pivot_table(df, values='Sales', index='Region', columns='Year', aggfunc='sum', fill_value=0)\n",
    "sales_pivot"
   ]
  },
  {
   "cell_type": "markdown",
   "id": "dc807f78-1ade-4ff3-89dd-93f464a8218d",
   "metadata": {},
   "source": [
    "Create a cross-tabulation showing the count of employees working in each Region for each Year. (10 Marks)"
   ]
  },
  {
   "cell_type": "code",
   "execution_count": 137,
   "id": "6ce1b189-d5d9-4d00-8763-cecea8f6925b",
   "metadata": {},
   "outputs": [
    {
     "data": {
      "text/html": [
       "<div>\n",
       "<style scoped>\n",
       "    .dataframe tbody tr th:only-of-type {\n",
       "        vertical-align: middle;\n",
       "    }\n",
       "\n",
       "    .dataframe tbody tr th {\n",
       "        vertical-align: top;\n",
       "    }\n",
       "\n",
       "    .dataframe thead th {\n",
       "        text-align: right;\n",
       "    }\n",
       "</style>\n",
       "<table border=\"1\" class=\"dataframe\">\n",
       "  <thead>\n",
       "    <tr style=\"text-align: right;\">\n",
       "      <th>Year</th>\n",
       "      <th>2023</th>\n",
       "      <th>2024</th>\n",
       "    </tr>\n",
       "    <tr>\n",
       "      <th>Region</th>\n",
       "      <th></th>\n",
       "      <th></th>\n",
       "    </tr>\n",
       "  </thead>\n",
       "  <tbody>\n",
       "    <tr>\n",
       "      <th>North</th>\n",
       "      <td>3</td>\n",
       "      <td>2</td>\n",
       "    </tr>\n",
       "    <tr>\n",
       "      <th>South</th>\n",
       "      <td>1</td>\n",
       "      <td>2</td>\n",
       "    </tr>\n",
       "  </tbody>\n",
       "</table>\n",
       "</div>"
      ],
      "text/plain": [
       "Year    2023  2024\n",
       "Region            \n",
       "North      3     2\n",
       "South      1     2"
      ]
     },
     "execution_count": 137,
     "metadata": {},
     "output_type": "execute_result"
    }
   ],
   "source": [
    "pd.crosstab(index=df['Region'],columns=df['Year'])"
   ]
  },
  {
   "cell_type": "markdown",
   "id": "81de75e8-8de6-4a36-8bfd-493c4439ce6d",
   "metadata": {},
   "source": [
    "5. Exporting Data (10 Marks)"
   ]
  },
  {
   "cell_type": "markdown",
   "id": "eedfc1ad-200e-4bf6-b2f4-667eae742ddc",
   "metadata": {},
   "source": [
    "Save the final merged dataset (from Task 2) to a CSV file named employee_sales.csv. (5 Marks)\n"
   ]
  },
  {
   "cell_type": "code",
   "execution_count": 144,
   "id": "23a9fc01-3932-4524-ae38-e4f1db163efa",
   "metadata": {},
   "outputs": [],
   "source": [
    "merged_data.to_csv('employee_sales.csv')\n"
   ]
  },
  {
   "cell_type": "markdown",
   "id": "f8b2eff0-c40c-488b-a4b5-e8cf26d13dcb",
   "metadata": {},
   "source": [
    "Save the pivot table (from Task 4) to an Excel file named sales_summary.xlsx. (5 Marks)"
   ]
  },
  {
   "cell_type": "code",
   "execution_count": 150,
   "id": "2855b117-0a0e-40aa-ac96-ff41274edcec",
   "metadata": {},
   "outputs": [],
   "source": [
    "sales_pivot.to_excel('sales_summary.xlsx')"
   ]
  }
 ],
 "metadata": {
  "kernelspec": {
   "display_name": "Python [conda env:base] *",
   "language": "python",
   "name": "conda-base-py"
  },
  "language_info": {
   "codemirror_mode": {
    "name": "ipython",
    "version": 3
   },
   "file_extension": ".py",
   "mimetype": "text/x-python",
   "name": "python",
   "nbconvert_exporter": "python",
   "pygments_lexer": "ipython3",
   "version": "3.12.4"
  }
 },
 "nbformat": 4,
 "nbformat_minor": 5
}
