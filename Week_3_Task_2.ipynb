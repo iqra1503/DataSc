{
 "cells": [
  {
   "cell_type": "markdown",
   "id": "0fc7d342-2885-4bf6-a706-64e09cc04dde",
   "metadata": {},
   "source": [
    "1. Introduction to NumPy and Array Creation"
   ]
  },
  {
   "cell_type": "code",
   "execution_count": 4,
   "id": "b032d0bf-c3b8-4b1b-b435-ac4d4124b623",
   "metadata": {},
   "outputs": [],
   "source": [
    "import numpy as np"
   ]
  },
  {
   "cell_type": "code",
   "execution_count": 6,
   "id": "8bc91e8c-850e-42f0-90b4-f911e17f1fe5",
   "metadata": {},
   "outputs": [
    {
     "data": {
      "text/plain": [
       "array([10, 20, 30, 40, 50])"
      ]
     },
     "execution_count": 6,
     "metadata": {},
     "output_type": "execute_result"
    }
   ],
   "source": [
    "#Create a 1D NumPy array with the elements [10, 20, 30, 40, 50].\n",
    "a = np.array([10, 20, 30, 40, 50])\n",
    "a"
   ]
  },
  {
   "cell_type": "code",
   "execution_count": 12,
   "id": "a71df868-8056-45be-bebd-400726507a4f",
   "metadata": {},
   "outputs": [
    {
     "data": {
      "text/plain": [
       "array([[0., 0., 0.],\n",
       "       [0., 0., 0.]])"
      ]
     },
     "execution_count": 12,
     "metadata": {},
     "output_type": "execute_result"
    }
   ],
   "source": [
    "#Create a 2D array of shape (2, 3) using numpy.zeros. \n",
    "b=np.zeros(6).reshape(2,3)\n",
    "b"
   ]
  },
  {
   "cell_type": "code",
   "execution_count": 14,
   "id": "fd4e3163-241c-4d53-ad7a-083aa4c8cdb1",
   "metadata": {},
   "outputs": [
    {
     "data": {
      "text/plain": [
       "array([  0.,  25.,  50.,  75., 100.])"
      ]
     },
     "execution_count": 14,
     "metadata": {},
     "output_type": "execute_result"
    }
   ],
   "source": [
    "#Use numpy.linspace to create an array of 5 evenly spaced numbers between 0 and 100\n",
    "a = np.linspace(0,100,5)\n",
    "a"
   ]
  },
  {
   "cell_type": "markdown",
   "id": "b3fd8f51-8977-4778-834e-431c0d11dd63",
   "metadata": {},
   "source": [
    "2. Array Indexing and Slicing\n"
   ]
  },
  {
   "cell_type": "code",
   "execution_count": 20,
   "id": "8ec7e528-ac9e-49bb-9251-a30854a56dec",
   "metadata": {},
   "outputs": [
    {
     "name": "stdout",
     "output_type": "stream",
     "text": [
      "[20 25 30]\n"
     ]
    }
   ],
   "source": [
    "#Using the 1D array [5, 10, 15, 20, 25, 30]:\n",
    "#Extract the first 3 elements.\n",
    "a = np.array([5, 10, 15, 20, 25, 30])\n",
    "print(a[3:])\n"
   ]
  },
  {
   "cell_type": "code",
   "execution_count": 30,
   "id": "75957f2f-50a1-4a72-8006-fed09fd0d3cd",
   "metadata": {},
   "outputs": [
    {
     "name": "stdout",
     "output_type": "stream",
     "text": [
      "[10 20 30]\n"
     ]
    }
   ],
   "source": [
    "#Extract every second element.\n",
    "print(a[1::2])"
   ]
  },
  {
   "cell_type": "code",
   "execution_count": 32,
   "id": "177fdd81-59d4-4b2d-928f-278c53d59d4e",
   "metadata": {},
   "outputs": [
    {
     "name": "stdout",
     "output_type": "stream",
     "text": [
      "[ 5 10 15 50 25 30]\n"
     ]
    }
   ],
   "source": [
    "#Change the 4th element to 50 and print the updated array. \n",
    "a[3] = 50\n",
    "print(a)"
   ]
  },
  {
   "cell_type": "markdown",
   "id": "cb86641f-4b52-40f6-ae1d-448af8f6aa02",
   "metadata": {},
   "source": [
    "3. Reshaping Arrays"
   ]
  },
  {
   "cell_type": "code",
   "execution_count": 39,
   "id": "123d965d-87f4-4544-8d16-8a7a1b653bfe",
   "metadata": {},
   "outputs": [
    {
     "data": {
      "text/plain": [
       "array([ 1,  2,  3,  4,  5,  6,  7,  8,  9, 10, 11, 12])"
      ]
     },
     "execution_count": 39,
     "metadata": {},
     "output_type": "execute_result"
    }
   ],
   "source": [
    "#Create a 1D array with 12 elements ranging from 1 to 12 using numpy.arange.\n",
    "a = np.arange(1,13)\n",
    "a\n"
   ]
  },
  {
   "cell_type": "code",
   "execution_count": 41,
   "id": "0fb3902c-148d-44b5-9efa-3390e9a3aa9c",
   "metadata": {},
   "outputs": [
    {
     "name": "stdout",
     "output_type": "stream",
     "text": [
      "[[ 1  2  3  4]\n",
      " [ 5  6  7  8]\n",
      " [ 9 10 11 12]]\n"
     ]
    }
   ],
   "source": [
    "#Reshape it into a 2D array of shape (3, 4). \n",
    "print(a.reshape(3,4))"
   ]
  },
  {
   "cell_type": "markdown",
   "id": "14870a87-d5c6-4a5c-ba3e-5d05133de8e1",
   "metadata": {},
   "source": [
    "4. Broadcasting and Element-wise Operations \n"
   ]
  },
  {
   "cell_type": "code",
   "execution_count": 61,
   "id": "7b6de6cd-5669-4225-8fea-4fd9b6ded355",
   "metadata": {},
   "outputs": [
    {
     "name": "stdout",
     "output_type": "stream",
     "text": [
      "[11 12 13 14 15]\n",
      "[ 3  6  9 12 15]\n",
      "[ 1  4  9 16 25]\n"
     ]
    }
   ],
   "source": [
    "#Create a 1D array with elements [1, 2, 3, 4, 5].\n",
    "#Perform the following operations:\n",
    "#Add 10 to each element. (2 Marks)\n",
    "#Multiply each element by 3. (3 Marks)\n",
    "#Calculate the square of each element. (5 Marks)\n",
    "\n",
    "a = np.array([1, 2, 3, 4, 5])\n",
    "print(np.add(a,10))\n",
    "print(np.multiply(a,3))\n",
    "sq_a = a**2\n",
    "print(sq_a)\n",
    "\n"
   ]
  },
  {
   "cell_type": "markdown",
   "id": "f72b6223-5e13-44b1-98fd-e4e458cf9a05",
   "metadata": {},
   "source": [
    "5. Basic Statistics with Arrays"
   ]
  },
  {
   "cell_type": "code",
   "execution_count": 76,
   "id": "7b660263-3840-4e1e-8a80-a2a8bfd31630",
   "metadata": {},
   "outputs": [
    {
     "name": "stdout",
     "output_type": "stream",
     "text": [
      "31.0\n",
      "34 28\n",
      "217\n"
     ]
    }
   ],
   "source": [
    "#Create a NumPy array representing daily temperatures for a week: [30, 32, 31, 29, 28, 33, 34].\n",
    "#Find the mean temperature of the week. (3 Marks)\n",
    "#Find the minimum and maximum temperatures. (3 Marks)\n",
    "#Calculate the total sum of the temperatures. (4 Marks)\n",
    "\n",
    "a = np.array( [30, 32, 31, 29, 28, 33, 34])\n",
    "print(np.mean(a))\n",
    "print(np.max(a),np.min(a))\n",
    "print(np.sum(a))\n"
   ]
  },
  {
   "cell_type": "markdown",
   "id": "39cc8c01-91a2-465a-a10f-d545ff13b574",
   "metadata": {},
   "source": [
    "6. Real-World Problem: Sales Analysis"
   ]
  },
  {
   "cell_type": "code",
   "execution_count": 87,
   "id": "b480be3a-1ea6-4a9d-a028-2024c69b016e",
   "metadata": {},
   "outputs": [
    {
     "name": "stdout",
     "output_type": "stream",
     "text": [
      "[1240  860]\n",
      "[248. 172.]\n",
      "[5 5]\n"
     ]
    }
   ],
   "source": [
    "a = np.array([ [200, 220, 250, 270, 300],[150, 160, 170, 180, 200]  ])\n",
    "#Calculate the total sales for each product.\n",
    "print(np.sum(a,axis =1))\n",
    "#Calculate the average sales per day. \n",
    "print(np.mean(a,axis = 1))\n",
    "#Find the day with the highest sales for each product\n",
    "print(np.argmax(a,axis = 1) + 1)"
   ]
  }
 ],
 "metadata": {
  "kernelspec": {
   "display_name": "Python [conda env:base] *",
   "language": "python",
   "name": "conda-base-py"
  },
  "language_info": {
   "codemirror_mode": {
    "name": "ipython",
    "version": 3
   },
   "file_extension": ".py",
   "mimetype": "text/x-python",
   "name": "python",
   "nbconvert_exporter": "python",
   "pygments_lexer": "ipython3",
   "version": "3.12.4"
  }
 },
 "nbformat": 4,
 "nbformat_minor": 5
}
