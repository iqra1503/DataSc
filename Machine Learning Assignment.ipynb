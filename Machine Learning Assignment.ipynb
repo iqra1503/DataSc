{
 "cells": [
  {
   "cell_type": "markdown",
   "id": "09392970-7cb1-4f70-b1c0-425408370553",
   "metadata": {},
   "source": [
    "# Step 1: Select a Dataset (10 Marks)"
   ]
  },
  {
   "cell_type": "markdown",
   "id": "d90d37fe-6936-49ee-b6ab-0441b4e76d2e",
   "metadata": {},
   "source": [
    "Choose a dataset from Kaggle or any other open-source platform."
   ]
  },
  {
   "cell_type": "markdown",
   "id": "aa6399ee-487d-4f3b-9b33-f3b76cb8e223",
   "metadata": {},
   "source": [
    "Ensure the dataset has sufficient features and a well-defined target variable."
   ]
  },
  {
   "cell_type": "markdown",
   "id": "2490a427-0a28-4443-ac59-59feb5545b5a",
   "metadata": {},
   "source": [
    "1) (5 Marks): Proper dataset selection (relevant to classification or regression).\n",
    "2) (5 Marks): Successfully loading the dataset into Python (Pandas)."
   ]
  },
  {
   "cell_type": "code",
   "execution_count": 188,
   "id": "070286b3-4645-4056-a92b-abfcb6a21c43",
   "metadata": {},
   "outputs": [],
   "source": [
    "import numpy as np\n",
    "import pandas as pd\n",
    "import matplotlib.pyplot as plt\n",
    "import seaborn as sns"
   ]
  },
  {
   "cell_type": "code",
   "execution_count": 190,
   "id": "09152e9f-ed6e-4b01-8dd0-6180df28d167",
   "metadata": {},
   "outputs": [
    {
     "data": {
      "text/html": [
       "<div>\n",
       "<style scoped>\n",
       "    .dataframe tbody tr th:only-of-type {\n",
       "        vertical-align: middle;\n",
       "    }\n",
       "\n",
       "    .dataframe tbody tr th {\n",
       "        vertical-align: top;\n",
       "    }\n",
       "\n",
       "    .dataframe thead th {\n",
       "        text-align: right;\n",
       "    }\n",
       "</style>\n",
       "<table border=\"1\" class=\"dataframe\">\n",
       "  <thead>\n",
       "    <tr style=\"text-align: right;\">\n",
       "      <th></th>\n",
       "      <th>PassengerId</th>\n",
       "      <th>Survived</th>\n",
       "      <th>Pclass</th>\n",
       "      <th>Name</th>\n",
       "      <th>Sex</th>\n",
       "      <th>Age</th>\n",
       "      <th>SibSp</th>\n",
       "      <th>Parch</th>\n",
       "      <th>Ticket</th>\n",
       "      <th>Fare</th>\n",
       "      <th>Cabin</th>\n",
       "      <th>Embarked</th>\n",
       "    </tr>\n",
       "  </thead>\n",
       "  <tbody>\n",
       "    <tr>\n",
       "      <th>0</th>\n",
       "      <td>892</td>\n",
       "      <td>0</td>\n",
       "      <td>3</td>\n",
       "      <td>Kelly, Mr. James</td>\n",
       "      <td>male</td>\n",
       "      <td>34.5</td>\n",
       "      <td>0</td>\n",
       "      <td>0</td>\n",
       "      <td>330911</td>\n",
       "      <td>7.8292</td>\n",
       "      <td>NaN</td>\n",
       "      <td>Q</td>\n",
       "    </tr>\n",
       "    <tr>\n",
       "      <th>1</th>\n",
       "      <td>893</td>\n",
       "      <td>1</td>\n",
       "      <td>3</td>\n",
       "      <td>Wilkes, Mrs. James (Ellen Needs)</td>\n",
       "      <td>female</td>\n",
       "      <td>47.0</td>\n",
       "      <td>1</td>\n",
       "      <td>0</td>\n",
       "      <td>363272</td>\n",
       "      <td>7.0000</td>\n",
       "      <td>NaN</td>\n",
       "      <td>S</td>\n",
       "    </tr>\n",
       "    <tr>\n",
       "      <th>2</th>\n",
       "      <td>894</td>\n",
       "      <td>0</td>\n",
       "      <td>2</td>\n",
       "      <td>Myles, Mr. Thomas Francis</td>\n",
       "      <td>male</td>\n",
       "      <td>62.0</td>\n",
       "      <td>0</td>\n",
       "      <td>0</td>\n",
       "      <td>240276</td>\n",
       "      <td>9.6875</td>\n",
       "      <td>NaN</td>\n",
       "      <td>Q</td>\n",
       "    </tr>\n",
       "    <tr>\n",
       "      <th>3</th>\n",
       "      <td>895</td>\n",
       "      <td>0</td>\n",
       "      <td>3</td>\n",
       "      <td>Wirz, Mr. Albert</td>\n",
       "      <td>male</td>\n",
       "      <td>27.0</td>\n",
       "      <td>0</td>\n",
       "      <td>0</td>\n",
       "      <td>315154</td>\n",
       "      <td>8.6625</td>\n",
       "      <td>NaN</td>\n",
       "      <td>S</td>\n",
       "    </tr>\n",
       "    <tr>\n",
       "      <th>4</th>\n",
       "      <td>896</td>\n",
       "      <td>1</td>\n",
       "      <td>3</td>\n",
       "      <td>Hirvonen, Mrs. Alexander (Helga E Lindqvist)</td>\n",
       "      <td>female</td>\n",
       "      <td>22.0</td>\n",
       "      <td>1</td>\n",
       "      <td>1</td>\n",
       "      <td>3101298</td>\n",
       "      <td>12.2875</td>\n",
       "      <td>NaN</td>\n",
       "      <td>S</td>\n",
       "    </tr>\n",
       "  </tbody>\n",
       "</table>\n",
       "</div>"
      ],
      "text/plain": [
       "   PassengerId  Survived  Pclass  \\\n",
       "0          892         0       3   \n",
       "1          893         1       3   \n",
       "2          894         0       2   \n",
       "3          895         0       3   \n",
       "4          896         1       3   \n",
       "\n",
       "                                           Name     Sex   Age  SibSp  Parch  \\\n",
       "0                              Kelly, Mr. James    male  34.5      0      0   \n",
       "1              Wilkes, Mrs. James (Ellen Needs)  female  47.0      1      0   \n",
       "2                     Myles, Mr. Thomas Francis    male  62.0      0      0   \n",
       "3                              Wirz, Mr. Albert    male  27.0      0      0   \n",
       "4  Hirvonen, Mrs. Alexander (Helga E Lindqvist)  female  22.0      1      1   \n",
       "\n",
       "    Ticket     Fare Cabin Embarked  \n",
       "0   330911   7.8292   NaN        Q  \n",
       "1   363272   7.0000   NaN        S  \n",
       "2   240276   9.6875   NaN        Q  \n",
       "3   315154   8.6625   NaN        S  \n",
       "4  3101298  12.2875   NaN        S  "
      ]
     },
     "execution_count": 190,
     "metadata": {},
     "output_type": "execute_result"
    }
   ],
   "source": [
    "data=pd.read_csv('titanic.csv')\n",
    "data.head()"
   ]
  },
  {
   "cell_type": "markdown",
   "id": "9859a5db-a74a-4b01-ac8e-7b9d1358d2d7",
   "metadata": {},
   "source": [
    "# Step 2: Data Cleaning (20 Marks)"
   ]
  },
  {
   "cell_type": "markdown",
   "id": "5c846fba-4ddc-4934-8c5e-e26ddd6081b9",
   "metadata": {},
   "source": [
    "Handle missing values (remove or impute missing data appropriately).\n",
    "\n",
    "Check for and remove duplicates, if applicable.\n",
    "\n",
    "Ensure proper formatting and structure for further analysis.\n",
    "    \n",
    "1) (10 Marks): Identifying and handling missing values correctly.\n",
    "2) (5 Marks): Cleaning data effectively and providing justification.\n",
    "3) (5 Marks): Ensuring the dataset is properly structured and ready for modeling."
   ]
  },
  {
   "cell_type": "markdown",
   "id": "a6791687-a989-4cf0-b22f-23877c25b312",
   "metadata": {},
   "source": [
    "Handle missing values "
   ]
  },
  {
   "cell_type": "markdown",
   "id": "f98be093-fc6c-4c91-adc8-438b518dd410",
   "metadata": {},
   "source": [
    "1)Checking For The Number Of Missing Values In Each Columns"
   ]
  },
  {
   "cell_type": "code",
   "execution_count": 194,
   "id": "d513d91a-b32e-42bc-8c5c-8bfdd456f706",
   "metadata": {},
   "outputs": [
    {
     "data": {
      "text/plain": [
       "PassengerId      0\n",
       "Survived         0\n",
       "Pclass           0\n",
       "Name             0\n",
       "Sex              0\n",
       "Age             86\n",
       "SibSp            0\n",
       "Parch            0\n",
       "Ticket           0\n",
       "Fare             1\n",
       "Cabin          327\n",
       "Embarked         0\n",
       "dtype: int64"
      ]
     },
     "execution_count": 194,
     "metadata": {},
     "output_type": "execute_result"
    }
   ],
   "source": [
    "data.isnull().sum()"
   ]
  },
  {
   "cell_type": "markdown",
   "id": "186879c5-64ae-43dc-bfa0-b35144c71c53",
   "metadata": {},
   "source": [
    "2)Dropping The Unnecessary Columns, Showing The Existing Columns After The Changes"
   ]
  },
  {
   "cell_type": "code",
   "execution_count": 197,
   "id": "cbccb47a-009c-45cd-8789-6fa9a02b9ef7",
   "metadata": {},
   "outputs": [
    {
     "data": {
      "text/plain": [
       "['Survived', 'Pclass', 'Sex', 'Age', 'SibSp', 'Parch', 'Fare', 'Embarked']"
      ]
     },
     "execution_count": 197,
     "metadata": {},
     "output_type": "execute_result"
    }
   ],
   "source": [
    "data.drop(['PassengerId','Name','Ticket','Cabin'],axis=1,inplace=True)\n",
    "data.columns.tolist()"
   ]
  },
  {
   "cell_type": "markdown",
   "id": "810e56bc-30e5-4328-b9b1-ac3346a3746d",
   "metadata": {},
   "source": [
    "3)Impute Missing 'Fare'"
   ]
  },
  {
   "cell_type": "code",
   "execution_count": 200,
   "id": "0832d4c7-1118-4901-83c3-14ddb6c50fd4",
   "metadata": {},
   "outputs": [],
   "source": [
    "data['Fare'] = data['Fare'].fillna(data['Fare'].median())"
   ]
  },
  {
   "cell_type": "markdown",
   "id": "55c96210-d883-459d-9b79-cfcc7978b5a9",
   "metadata": {},
   "source": [
    "4)Impute Missing 'Age'"
   ]
  },
  {
   "cell_type": "code",
   "execution_count": 203,
   "id": "97616991-c126-467e-9841-99efa5da414b",
   "metadata": {},
   "outputs": [],
   "source": [
    "data['Age'] = data['Age'].fillna(data['Age'].median())"
   ]
  },
  {
   "cell_type": "markdown",
   "id": "7dbdbe47-e31f-482f-9747-abb0c821e99f",
   "metadata": {},
   "source": [
    "5)Checking For The New Changes"
   ]
  },
  {
   "cell_type": "code",
   "execution_count": 206,
   "id": "c78e971e-725c-4793-9b2e-2ff4e63bb976",
   "metadata": {},
   "outputs": [
    {
     "data": {
      "text/plain": [
       "Survived    0\n",
       "Pclass      0\n",
       "Sex         0\n",
       "Age         0\n",
       "SibSp       0\n",
       "Parch       0\n",
       "Fare        0\n",
       "Embarked    0\n",
       "dtype: int64"
      ]
     },
     "execution_count": 206,
     "metadata": {},
     "output_type": "execute_result"
    }
   ],
   "source": [
    "data.isnull().sum()"
   ]
  },
  {
   "cell_type": "markdown",
   "id": "08a08784-4aaf-4527-870c-e612f9ccf11a",
   "metadata": {},
   "source": [
    "Check for and remove duplicates"
   ]
  },
  {
   "cell_type": "markdown",
   "id": "fd996443-da7b-4d95-a328-4453fc51f5b6",
   "metadata": {},
   "source": [
    "1)Check If There Is Any Duplicated Data In The Dataset"
   ]
  },
  {
   "cell_type": "code",
   "execution_count": 210,
   "id": "cc045bff-9883-42ee-82e2-25188bdd3ffa",
   "metadata": {},
   "outputs": [
    {
     "data": {
      "text/plain": [
       "41"
      ]
     },
     "execution_count": 210,
     "metadata": {},
     "output_type": "execute_result"
    }
   ],
   "source": [
    "data.duplicated().sum()"
   ]
  },
  {
   "cell_type": "code",
   "execution_count": 212,
   "id": "7640387d-36c0-49aa-bbb7-833e45b0f5a6",
   "metadata": {},
   "outputs": [
    {
     "name": "stdout",
     "output_type": "stream",
     "text": [
      "     Survived  Pclass     Sex   Age  SibSp  Parch     Fare Embarked\n",
      "3           0       3    male  27.0      0      0   8.6625        S\n",
      "10          0       3    male  27.0      0      0   7.8958        S\n",
      "29          0       3    male  27.0      2      0  21.6792        C\n",
      "36          1       3  female  27.0      0      0   8.0500        S\n",
      "41          0       1    male  27.0      0      0  26.5500        S\n",
      "..        ...     ...     ...   ...    ...    ...      ...      ...\n",
      "363         0       3    male  27.0      0      0   8.6625        S\n",
      "380         0       3    male  27.0      0      0   7.7500        Q\n",
      "410         1       3  female  27.0      0      0   7.7500        Q\n",
      "413         0       3    male  27.0      0      0   8.0500        S\n",
      "416         0       3    male  27.0      0      0   8.0500        S\n",
      "\n",
      "[61 rows x 8 columns]\n"
     ]
    }
   ],
   "source": [
    "# Showing duplicate rows\n",
    "print(data[data.duplicated(keep=False)])"
   ]
  },
  {
   "cell_type": "code",
   "execution_count": 214,
   "id": "44f1a7f5-e085-4f39-b125-27290c17862b",
   "metadata": {},
   "outputs": [],
   "source": [
    "# Removing duplicates\n",
    "data = data.drop_duplicates()"
   ]
  },
  {
   "cell_type": "code",
   "execution_count": 216,
   "id": "03c3459c-827e-49af-868b-7971bc2c1315",
   "metadata": {},
   "outputs": [
    {
     "name": "stdout",
     "output_type": "stream",
     "text": [
      "0\n"
     ]
    }
   ],
   "source": [
    "# Verifying the result\n",
    "print(data.duplicated().sum())  "
   ]
  },
  {
   "cell_type": "code",
   "execution_count": 218,
   "id": "622a5cf7-ef81-4c0c-8043-4c0a23105d2b",
   "metadata": {},
   "outputs": [],
   "source": [
    "#reseting \n",
    "data = data.reset_index(drop=True)"
   ]
  },
  {
   "cell_type": "code",
   "execution_count": 220,
   "id": "49ab7c25-0161-4edf-bede-ec696e3fd907",
   "metadata": {},
   "outputs": [
    {
     "name": "stdout",
     "output_type": "stream",
     "text": [
      "Number of duplicates after removal: 0\n",
      "Shape after removing duplicates: (377, 8)\n"
     ]
    }
   ],
   "source": [
    "# Verifying the result\n",
    "print(\"Number of duplicates after removal:\", data.duplicated().sum())\n",
    "print(\"Shape after removing duplicates:\", data.shape)"
   ]
  },
  {
   "cell_type": "markdown",
   "id": "faec360b-411e-4d45-b204-505ca70ddf3f",
   "metadata": {},
   "source": [
    "Ensure proper formatting and structure "
   ]
  },
  {
   "cell_type": "markdown",
   "id": "bb4a25b5-b9a2-4ead-90e4-6672072274d5",
   "metadata": {},
   "source": [
    "1)Converting 'Sex' and 'Embarked' To Binary & Category values"
   ]
  },
  {
   "cell_type": "code",
   "execution_count": 224,
   "id": "610dda39-63ae-4a8a-a690-336a70553ac5",
   "metadata": {},
   "outputs": [],
   "source": [
    "data['Sex'] = data['Sex'].map({'female': 0, 'male': 1})\n",
    "data[\"Embarked\"] = data[\"Embarked\"].astype(\"category\")"
   ]
  },
  {
   "cell_type": "code",
   "execution_count": 226,
   "id": "0ad4a403-084d-45ad-b270-6b5535de9f11",
   "metadata": {},
   "outputs": [
    {
     "data": {
      "text/plain": [
       "['Survived', 'Pclass', 'Sex', 'Age', 'SibSp', 'Parch', 'Fare', 'Embarked']"
      ]
     },
     "execution_count": 226,
     "metadata": {},
     "output_type": "execute_result"
    }
   ],
   "source": [
    "data.columns.to_list()"
   ]
  },
  {
   "cell_type": "code",
   "execution_count": 228,
   "id": "9560e542-add7-46c0-ad86-8d62b94bb179",
   "metadata": {},
   "outputs": [
    {
     "data": {
      "text/plain": [
       "Survived       int64\n",
       "Pclass         int64\n",
       "Sex            int64\n",
       "Age          float64\n",
       "SibSp          int64\n",
       "Parch          int64\n",
       "Fare         float64\n",
       "Embarked    category\n",
       "dtype: object"
      ]
     },
     "execution_count": 228,
     "metadata": {},
     "output_type": "execute_result"
    }
   ],
   "source": [
    "data.dtypes"
   ]
  },
  {
   "cell_type": "markdown",
   "id": "021e7c35-cea7-4a12-b862-035505f8a752",
   "metadata": {},
   "source": [
    "# Step 3:Exploratory Data Analysis (EDA) & Visualization (20 Marks)"
   ]
  },
  {
   "cell_type": "markdown",
   "id": "ab9bb32c-4cf8-4df2-b6d0-6a17d4a2edf0",
   "metadata": {},
   "source": [
    "Visualize important features using graphs (e.g., histograms, scatter plots, bar charts)."
   ]
  },
  {
   "cell_type": "markdown",
   "id": "f53e9054-bfaf-4ef9-8b6b-a2e92dca853e",
   "metadata": {},
   "source": [
    "Generate a correlation heatmap (if applicable)."
   ]
  },
  {
   "cell_type": "markdown",
   "id": "87c5dbf7-074a-46a6-92d5-e76d2da49c8a",
   "metadata": {},
   "source": [
    "Extract and explain 3-5 key insights from the dataset."
   ]
  },
  {
   "cell_type": "markdown",
   "id": "dc87ded8-6a76-426d-87b5-e67e15ca51ef",
   "metadata": {},
   "source": [
    "(10 Marks): Clear and informative visualizations."
   ]
  },
  {
   "cell_type": "markdown",
   "id": "a65a8344-ea37-4041-a42d-302d785f2802",
   "metadata": {},
   "source": [
    "(10 Marks): Well-explained insights based on the visualizations."
   ]
  },
  {
   "cell_type": "markdown",
   "id": "c0df190d-c080-4eb3-b570-bd6658f1ecb8",
   "metadata": {},
   "source": [
    "1) Histograms to understand the 'Age Distribution'"
   ]
  },
  {
   "cell_type": "code",
   "execution_count": 230,
   "id": "2bc32bdb-faae-40f9-aad8-2aef1a4ee5d6",
   "metadata": {},
   "outputs": [
    {
     "data": {
      "image/png": "[encoded data removed]",
      "text/plain": [
       "<Figure size 640x480 with 1 Axes>"
      ]
     },
     "metadata": {},
     "output_type": "display_data"
    }
   ],
   "source": [
    "sns.histplot(data['Age'], bins=10,kde=True)\n",
    "plt.title('Age Distribution of Passengers')\n",
    "plt.xlabel('Age')\n",
    "plt.ylabel('Frequency')\n",
    "plt.show()"
   ]
  },
  {
   "cell_type": "markdown",
   "id": "d67d6152-6cc4-456f-86b2-b43a0263bb30",
   "metadata": {},
   "source": [
    "Insight: From the graph, we can say that most passengers were between 20 and 40 years old. "
   ]
  },
  {
   "cell_type": "markdown",
   "id": "3803f4cd-abc2-43a4-9605-db08a84a281b",
   "metadata": {},
   "source": [
    "2. Scatter plots help visualize relationships between two numerical variable,'Sex' and 'Survived'."
   ]
  },
  {
   "cell_type": "code",
   "execution_count": 233,
   "id": "bf90930f-01d8-44c4-864a-1be3b6d042f6",
   "metadata": {},
   "outputs": [
    {
     "data": {
      "image/png": "[encoded data removed]",
      "text/plain": [
       "<Figure size 640x480 with 1 Axes>"
      ]
     },
     "metadata": {},
     "output_type": "display_data"
    }
   ],
   "source": [
    "sns.scatterplot(x='Age', y='Fare', hue='Survived', data=data)\n",
    "plt.title('Fare vs. Age (Colored by Survival)')\n",
    "plt.xlabel('Age')\n",
    "plt.ylabel('Fare')\n",
    "plt.legend(title='Survived', loc='upper right')\n",
    "plt.show()"
   ]
  },
  {
   "cell_type": "markdown",
   "id": "abce16f9-8ec5-4866-bc35-9955ee7846a7",
   "metadata": {},
   "source": [
    "Insights: Passengers who paid higher fares (likely in higher classes) had a better chance of survival.\n",
    "          Younger passengers (children) had a higher survival rate."
   ]
  },
  {
   "cell_type": "markdown",
   "id": "f8562875-839f-46db-88a4-74fb6b6e8ce2",
   "metadata": {},
   "source": [
    "3. Bar chart for showing the survival count by Passenger Class"
   ]
  },
  {
   "cell_type": "code",
   "execution_count": 235,
   "id": "60d3c154-29c5-4e6f-a655-8503299173f0",
   "metadata": {},
   "outputs": [
    {
     "data": {
      "image/png": "[encoded data removed]",
      "text/plain": [
       "<Figure size 640x480 with 1 Axes>"
      ]
     },
     "metadata": {},
     "output_type": "display_data"
    }
   ],
   "source": [
    "sns.countplot(x='Pclass', hue='Survived', data=data)\n",
    "plt.title('Survival Count by Passenger Class')\n",
    "plt.xlabel('Passenger Class')\n",
    "plt.ylabel('Count')\n",
    "plt.legend(title='Survived', loc='upper right')\n",
    "plt.show()"
   ]
  },
  {
   "cell_type": "markdown",
   "id": "762eaa13-84de-4d0f-934c-c65b6dd021ea",
   "metadata": {},
   "source": [
    "Insights: 1st class passengers had the highest chance of survival,while the 3rd class passengers had the lowest chance of survival. Also, the female passengers had the more chances to survive among the passengers."
   ]
  },
  {
   "cell_type": "markdown",
   "id": "c9f474e4-0719-4676-8286-c03f03c2c857",
   "metadata": {},
   "source": [
    "4) Generating a corelation heatmap"
   ]
  },
  {
   "cell_type": "code",
   "execution_count": 237,
   "id": "5a72c551-3bb1-4afa-9595-c93d91a0168d",
   "metadata": {},
   "outputs": [
    {
     "data": {
      "image/png": "[encoded data removed]",
      "text/plain": [
       "<Figure size 800x600 with 2 Axes>"
      ]
     },
     "metadata": {},
     "output_type": "display_data"
    }
   ],
   "source": [
    "#Calculating the numerical data\n",
    "numerical_data = data[['Survived', 'Pclass', 'Age', 'SibSp', 'Parch', 'Fare']]\n",
    "corr = numerical_data.corr()\n",
    "\n",
    "plt.figure(figsize=(8, 6))\n",
    "sns.heatmap(corr, annot=True, cmap='coolwarm', fmt='.2f', linewidths=0.5)\n",
    "plt.title('Correlation Heatmap for Titanic Dataset')\n",
    "plt.show()"
   ]
  },
  {
   "cell_type": "markdown",
   "id": "b6caae25-e88f-45eb-92b5-077bef6f6613",
   "metadata": {},
   "source": [
    "Insights:1)Row 1: Survived: Negatively corelated with PClass,refers to Lower class passengers had slightly lower survival rates\n",
    "         2)Row 2: PClass: Higher-class passengers (lower Pclass values) paid higher fares.\n",
    "         3)Row 3: Age: Age is moderately correlated with Fare\n",
    "         4)Row 4: SibSp: Mostly Correlated with Parch\n",
    "         5)Row 5: Parch: Lager famiies tend to pay higher fair.\n",
    "         6)Row 6: Fare: Older passengers tend to pay higher fair."
   ]
  },
  {
   "cell_type": "markdown",
   "id": "089a17bd-704b-45e2-95b3-e735634f3cc5",
   "metadata": {},
   "source": [
    "# Step 4: Apply a Machine Learning Model (30 Marks)"
   ]
  },
  {
   "cell_type": "markdown",
   "id": "974b3552-18d3-42e4-a60f-7189d8880234",
   "metadata": {},
   "source": [
    "Choose and apply either a Regression or Classification model:\n",
    "1) If the target variable is numerical → Linear Regression.\n",
    "2) If the target variable is categorical → Logistic Regression or another classification model."
   ]
  },
  {
   "cell_type": "markdown",
   "id": "7a3576ac-574a-4317-b676-855dda8c30af",
   "metadata": {},
   "source": [
    "Train the model using Scikit-learn."
   ]
  },
  {
   "cell_type": "markdown",
   "id": "4a179d5b-4ea0-4a9d-9046-ce71bf9ff3cc",
   "metadata": {},
   "source": [
    "Display and interpret the accuracy score (for classification) or RMSE (for regression)."
   ]
  },
  {
   "cell_type": "markdown",
   "id": "d210d0b3-6a79-4d32-9fef-1ab54b19cc42",
   "metadata": {},
   "source": [
    "1) (10 Marks): Correct model selection based on dataset type.\n",
    "2) (10 Marks): Implementing and training the model properly.\n",
    "3) (10 Marks): Displaying and correctly interpreting accuracy/RMSE."
   ]
  },
  {
   "cell_type": "code",
   "execution_count": 239,
   "id": "8a75e4b3-ef56-479f-baf2-2216be3573a6",
   "metadata": {},
   "outputs": [],
   "source": [
    "import pandas as pd\n",
    "from sklearn.model_selection import train_test_split\n",
    "from sklearn.linear_model import LogisticRegression\n",
    "from sklearn.preprocessing import StandardScaler\n",
    "\n",
    "\n",
    "\n",
    "# Select features and target\n",
    "X = data[['Pclass', 'Age', 'SibSp', 'Parch', 'Fare']]\n",
    "y = data['Survived']\n",
    "\n",
    "\n",
    "\n",
    "\n",
    "# Split the data\n",
    "X_train, X_test, y_train, y_test = train_test_split(X, y, test_size=0.2, random_state=42)\n",
    "\n",
    "# Scale the features\n",
    "scaler = StandardScaler()\n",
    "X_train = scaler.fit_transform(X_train)\n",
    "X_test = scaler.transform(X_test)\n",
    "\n",
    "# Initialize and train the model\n",
    "model = LogisticRegression(max_iter=1000)\n",
    "model.fit(X_train, y_train)\n",
    "\n",
    "# Make predictions\n",
    "y_pred = model.predict(X_test)\n"
   ]
  },
  {
   "cell_type": "markdown",
   "id": "da82fd22-1751-4ef8-8b6b-0faeb438f37b",
   "metadata": {},
   "source": [
    "Calculating the accuracy, confusion matrix, and classification report for my Logistic Regression model."
   ]
  },
  {
   "cell_type": "code",
   "execution_count": 241,
   "id": "06d61c3d-3701-4e2c-902f-2c6da449fa67",
   "metadata": {},
   "outputs": [
    {
     "name": "stdout",
     "output_type": "stream",
     "text": [
      "Accuracy: 0.6578947368421053\n",
      "Confusion Matrix:\n",
      "[[50  1]\n",
      " [25  0]]\n",
      "Classification Report:\n",
      "              precision    recall  f1-score   support\n",
      "\n",
      "           0       0.67      0.98      0.79        51\n",
      "           1       0.00      0.00      0.00        25\n",
      "\n",
      "    accuracy                           0.66        76\n",
      "   macro avg       0.33      0.49      0.40        76\n",
      "weighted avg       0.45      0.66      0.53        76\n",
      "\n"
     ]
    }
   ],
   "source": [
    "from sklearn.metrics import accuracy_score, confusion_matrix, classification_report\n",
    "\n",
    "# Make predictions\n",
    "y_pred = model.predict(X_test)\n",
    "\n",
    "# Calculate accuracy\n",
    "accuracy = accuracy_score(y_test, y_pred)\n",
    "print(\"Accuracy:\", accuracy)\n",
    "\n",
    "# Generate confusion matrix\n",
    "conf_matrix = confusion_matrix(y_test, y_pred)\n",
    "print(\"Confusion Matrix:\")\n",
    "print(conf_matrix)\n",
    "\n",
    "# Generate classification report\n",
    "class_report = classification_report(y_test, y_pred, target_names=['0', '1'])\n",
    "print(\"Classification Report:\")\n",
    "print(class_report)"
   ]
  },
  {
   "cell_type": "markdown",
   "id": "f0251b49-c938-43c2-a41a-d7592f0e734c",
   "metadata": {},
   "source": [
    "# Step 5: Conclusion & Future Improvements (20 Marks)"
   ]
  },
  {
   "cell_type": "markdown",
   "id": "48b7773e-22fb-4411-962c-21de81dcf777",
   "metadata": {},
   "source": [
    "Summarize findings and discuss model performance."
   ]
  },
  {
   "cell_type": "markdown",
   "id": "d4182b78-3111-4d81-b386-7599b4f6ef57",
   "metadata": {},
   "source": [
    "Suggest at least two possible improvements (e.g., using more data, trying a different model, feature engineering)."
   ]
  },
  {
   "cell_type": "markdown",
   "id": "f045ad61-09e5-4282-a952-092a1b2d1524",
   "metadata": {},
   "source": [
    "(10 Marks): Well-explained summary of findings.\n"
   ]
  },
  {
   "cell_type": "markdown",
   "id": "d938a4df-8f16-4d0b-a6a9-a96fdd50b44f",
   "metadata": {},
   "source": [
    "(10 Marks): Thoughtful suggestions for improvement."
   ]
  },
  {
   "cell_type": "markdown",
   "id": "4eb07301-ff52-49b5-aaac-29513a9917bc",
   "metadata": {},
   "source": [
    "## Summarizing findings and discussing about the model performance."
   ]
  },
  {
   "cell_type": "markdown",
   "id": "a87f8ae4-06e7-43b1-860a-78775e23a352",
   "metadata": {},
   "source": [
    "The model achieved an accuracy of 65.79% on the test set. The classification report revealed: s.s (1)."
   ]
  },
  {
   "cell_type": "markdown",
   "id": "75fecb88-2b71-47ea-9480-0c21dbefc265",
   "metadata": {},
   "source": [
    "Precision: 67% for non-survivors (0) and 0% for survivors (1)."
   ]
  },
  {
   "cell_type": "markdown",
   "id": "36750d3a-cfa0-444e-bad1-2cecc259fba1",
   "metadata": {},
   "source": [
    "Recall: 98% for non-survivors (0) and 0% for survivors (1)."
   ]
  },
  {
   "cell_type": "markdown",
   "id": "e8af4530-727f-4243-9c0c-fced0e918b8e",
   "metadata": {},
   "source": [
    "F1-Score: 0.79 for non-survivors (0) and 0.00 for survivors (1)."
   ]
  },
  {
   "cell_type": "markdown",
   "id": "d0a15e12-f824-4394-bd42-54c91b9e5fd9",
   "metadata": {},
   "source": [
    "So we can say that the model performs well in predicting non-survivors (0) with high recall (98%) but fails completely in predicting survivors (1), as indicated by 0% precision, recall, and F1-score for class 1.\n",
    "\n",
    "The model is heavily biased toward predicting non-survivors, which suggests a class imbalance issue or insufficient feature representation for survivors"
   ]
  },
  {
   "cell_type": "markdown",
   "id": "58fa4190-d31a-4506-b38b-36d315738332",
   "metadata": {},
   "source": [
    "## Future Improvements"
   ]
  },
  {
   "cell_type": "markdown",
   "id": "0765016b-9709-42c6-878a-cf4bf7716ede",
   "metadata": {},
   "source": [
    "1: Trying a Different Model:\n",
    "Logistic Regression may not be capturing the complexity of the data. Experiment with more advanced models like Random Forest, Gradient Boosting (e.g., XGBoost, LightGBM), or Neural Networks."
   ]
  },
  {
   "cell_type": "markdown",
   "id": "071e702d-5427-4fc7-bd9e-bbe98efe90bd",
   "metadata": {},
   "source": [
    "2: Hyperparameter Tuning: Optimize model hyperparameters using GridSearchCV or RandomizedSearchCV."
   ]
  }
 ],
 "metadata": {
  "kernelspec": {
   "display_name": "Python [conda env:base] *",
   "language": "python",
   "name": "conda-base-py"
  },
  "language_info": {
   "codemirror_mode": {
    "name": "ipython",
    "version": 3
   },
   "file_extension": ".py",
   "mimetype": "text/x-python",
   "name": "python",
   "nbconvert_exporter": "python",
   "pygments_lexer": "ipython3",
   "version": "3.12.4"
  }
 },
 "nbformat": 4,
 "nbformat_minor": 5
}
